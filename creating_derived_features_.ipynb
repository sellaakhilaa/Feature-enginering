{
  "nbformat": 4,
  "nbformat_minor": 0,
  "metadata": {
    "colab": {
      "provenance": [],
      "authorship_tag": "ABX9TyN8QjbdF71SBi9p9NZKp71W",
      "include_colab_link": true
    },
    "kernelspec": {
      "name": "python3",
      "display_name": "Python 3"
    },
    "language_info": {
      "name": "python"
    }
  },
  "cells": [
    {
      "cell_type": "markdown",
      "metadata": {
        "id": "view-in-github",
        "colab_type": "text"
      },
      "source": [
        "<a href=\"https://colab.research.google.com/github/sellaakhilaa/Feature-enginering/blob/main/Copy_of_creating_derived_features_.ipynb\" target=\"_parent\"><img src=\"https://colab.research.google.com/assets/colab-badge.svg\" alt=\"Open In Colab\"/></a>"
      ]
    },
    {
      "cell_type": "code",
      "execution_count": null,
      "metadata": {
        "colab": {
          "base_uri": "https://localhost:8080/"
        },
        "id": "1JyT8NKoveaJ",
        "outputId": "c40ee902-3409-4832-a60d-765ea5ab166d"
      },
      "outputs": [
        {
          "output_type": "stream",
          "name": "stdout",
          "text": [
            "   survived  pclass     sex   age  sibsp  parch     fare embarked  class  \\\n",
            "0         0       3    male  22.0      1      0   7.2500        S  Third   \n",
            "1         1       1  female  38.0      1      0  71.2833        C  First   \n",
            "2         1       3  female  26.0      0      0   7.9250        S  Third   \n",
            "3         1       1  female  35.0      1      0  53.1000        S  First   \n",
            "4         0       3    male  35.0      0      0   8.0500        S  Third   \n",
            "\n",
            "     who  adult_male deck  embark_town alive  alone  \n",
            "0    man        True  NaN  Southampton    no  False  \n",
            "1  woman       False    C    Cherbourg   yes  False  \n",
            "2  woman       False  NaN  Southampton   yes   True  \n",
            "3  woman       False    C  Southampton   yes  False  \n",
            "4    man        True  NaN  Southampton    no   True  \n",
            "      sex   age  sibsp  parch  family_size  is_alone age_group title deck  \\\n",
            "0    male  22.0      1      0            2     False     Adult    Mr  NaN   \n",
            "1  female  38.0      1      0            2     False     Adult   Mrs    C   \n",
            "2  female  26.0      0      0            1      True     Adult   Mrs  NaN   \n",
            "3  female  35.0      1      0            2     False     Adult   Mrs    C   \n",
            "4    male  35.0      0      0            1      True     Adult    Mr  NaN   \n",
            "\n",
            "  cabin_type  \n",
            "0          n  \n",
            "1          C  \n",
            "2          n  \n",
            "3          C  \n",
            "4          n  \n"
          ]
        }
      ],
      "source": [
        "import pandas as pd\n",
        "import seaborn as sns\n",
        "\n",
        "# Load Titanic dataset from seaborn\n",
        "df = sns.load_dataset('titanic')\n",
        "\n",
        "# Show first few rows\n",
        "print(df.head())\n",
        "# Derived Feature 1: Family Size\n",
        "df['family_size'] = df['sibsp'] + df['parch'] + 1\n",
        "\n",
        "# Derived Feature 2: Is Alone\n",
        "df['is_alone'] = df['family_size'] == 1\n",
        "\n",
        "# Derived Feature 3: Age Group\n",
        "def age_group(age):\n",
        "    if pd.isnull(age):\n",
        "        return 'Unknown'\n",
        "    elif age < 12:\n",
        "        return 'Child'\n",
        "    elif age < 18:\n",
        "        return 'Teen'\n",
        "    elif age < 60:\n",
        "        return 'Adult'\n",
        "    else:\n",
        "        return 'Senior'\n",
        "\n",
        "df['age_group'] = df['age'].apply(age_group)\n",
        "\n",
        "# Derived Feature 4: Title from Name\n",
        "df['title'] = df['who'].map({'man': 'Mr', 'woman': 'Mrs', 'child': 'Master'})\n",
        "\n",
        "# Derived Feature 5: Cabin Type (Deck letter)\n",
        "df['cabin_type'] = df['deck'].astype(str).str[0]\n",
        "\n",
        "# View final dataset with derived features\n",
        "print(df[['sex', 'age', 'sibsp', 'parch', 'family_size', 'is_alone', 'age_group', 'title', 'deck', 'cabin_type']].head())"
      ]
    }
  ]
}
